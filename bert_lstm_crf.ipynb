{
 "cells": [
  {
   "cell_type": "code",
   "execution_count": 1,
   "metadata": {},
   "outputs": [],
   "source": [
    "import pandas as pd\n",
    "import numpy as np\n",
    "import seaborn as sns\n",
    "import warnings\n",
    "warnings.filterwarnings('ignore')\n",
    "from transformers import BertModel, BertTokenizer, BertConfig\n",
    "import torch as t\n",
    "import sys\n",
    "sys.path.append('/home/zhongjc/DataFound/Agricul/Bert_BiLSTM_CRF')\n",
    "from sklearn.model_selection import train_test_split\n",
    "import torch.optim as optim\n",
    "from model import *\n",
    "import torch.utils.data as tud\n",
    "\n",
    "device = t.device('cuda:7' if t.cuda.is_available() else 'cpu')\n",
    "pretrained_path = 'bert-base-chinese'\n",
    "bert_embedding = 768"
   ]
  },
  {
   "cell_type": "code",
   "execution_count": 2,
   "metadata": {},
   "outputs": [],
   "source": [
    "df_train = pd.read_csv('./data/train_clean.csv')\n",
    "df_test = pd.read_csv('./data/test.csv')\n",
    "tokenizer = BertTokenizer.from_pretrained(pretrained_path)\n",
    "idx2tag = ['<pad>', '<sos>', '<eos>', 'e_medicine', 'O', 'e_crop', 'b_crop', 'm_crop', 'm_disease', 'b_medicine', 'e_disease', 'b_disease', 'm_medicine']\n",
    "tag2idx = {v:k for k, v in enumerate(idx2tag)}"
   ]
  },
  {
   "cell_type": "code",
   "execution_count": 3,
   "metadata": {},
   "outputs": [],
   "source": [
    "BATCH_SIZE = 10\n",
    "N_EPOCHS = 60\n",
    "MAX_LEN = 400\n",
    "rnn_hidden = 500\n",
    "dropout1 = 0.5\n",
    "dropout_ratio = 0.5\n",
    "rnn_layer = 1\n",
    "lr = 0.0001\n",
    "lr_decay = 0.00001\n",
    "weight_decay = 0.00005"
   ]
  },
  {
   "cell_type": "markdown",
   "metadata": {},
   "source": [
    "## data set"
   ]
  },
  {
   "cell_type": "code",
   "execution_count": 4,
   "metadata": {},
   "outputs": [],
   "source": [
    "class AgriDataset(tud.Dataset):\n",
    "    def __init__(self, datas):\n",
    "        super(AgriDataset, self).__init__()\n",
    "        self.datas = datas\n",
    "        self.lens = len(datas)\n",
    "        \n",
    "    def __len__(self):\n",
    "        return self.lens\n",
    "    \n",
    "    def __getitem__(self, idx):\n",
    "        data = self.datas[idx][-1]\n",
    "        words, tags = [], []\n",
    "        for i in data.split(' '):\n",
    "            if '/' not in i: continue\n",
    "            words.append(i.split('/')[0])\n",
    "            tags.append(i.split('/')[1])\n",
    "        seq_dict = tokenizer.encode_plus(''.join(words), max_length=MAX_LEN, add_special_tokens=True, pad_to_max_length=True)\n",
    "        input_ids = seq_dict['input_ids']\n",
    "        atten_mask = seq_dict['attention_mask']\n",
    "        tags = ['<sos>'] + tags + ['<eos>']\n",
    "        tags_ids = [tag2idx[i] for i in tags] + [tag2idx['<pad>']]*(MAX_LEN-len(tags))\n",
    "        \n",
    "        input_ids = t.LongTensor(input_ids)\n",
    "        atten_mask = t.LongTensor(atten_mask)\n",
    "        tags_ids = t.LongTensor(tags_ids)\n",
    "        return input_ids, atten_mask, tags_ids"
   ]
  },
  {
   "cell_type": "code",
   "execution_count": 5,
   "metadata": {},
   "outputs": [],
   "source": [
    "train_data = AgriDataset(df_train.values)\n",
    "train_data, val_data = train_test_split(train_data, test_size=0.005, random_state=2020)\n",
    "train_iter = tud.DataLoader(train_data, batch_size=BATCH_SIZE)\n",
    "val_iter = tud.DataLoader(val_data, batch_size=BATCH_SIZE)"
   ]
  },
  {
   "cell_type": "code",
   "execution_count": 6,
   "metadata": {},
   "outputs": [],
   "source": [
    "model = BERT_LSTM_CRF(pretrained_path, len(idx2tag), bert_embedding, rnn_hidden, rnn_layer, dropout_ratio, dropout1)\n",
    "model = model.to(device)\n",
    "optimizer = optim.Adam(model.parameters(), lr=lr, weight_decay=weight_decay)"
   ]
  },
  {
   "cell_type": "code",
   "execution_count": 7,
   "metadata": {},
   "outputs": [],
   "source": [
    "def train(model, data_iter, optimizer):\n",
    "    model.train()\n",
    "    total_loss, total_cnt = 0., 0.\n",
    "    for idx, (input_ids, atten_mask, tag_ids) in enumerate(data_iter):\n",
    "        input_ids, atten_mask, tag_ids = input_ids.to(device), atten_mask.to(device), tag_ids.to(device)\n",
    "        feats = model(input_ids, atten_mask)\n",
    "        loss = model.loss(feats, atten_mask, tag_ids)\n",
    "        \n",
    "        optimizer.zero_grad()\n",
    "        loss.backward()\n",
    "        optimizer.step()\n",
    "        \n",
    "        total_cnt += len(input_ids)\n",
    "        total_loss += loss.item()\n",
    "    return total_loss / total_cnt\n",
    "\n",
    "def evaluate(model, data_iter):\n",
    "    model.eval()\n",
    "    total_loss, total_cnt = 0., 0.\n",
    "    with t.no_grad():\n",
    "        for idx, (input_ids, atten_mask, tag_ids) in enumerate(data_iter):\n",
    "            input_ids, atten_mask, tag_ids = input_ids.to(device), atten_mask.to(device), tag_ids.to(device)\n",
    "            feats = model(input_ids, atten_mask)\n",
    "            loss = model.loss(feats, atten_mask, ag_ids)\n",
    "            \n",
    "            total_cnt += len(input_ids)\n",
    "            total_loss += loss.item()\n",
    "    return total_loss / total_cnt"
   ]
  },
  {
   "cell_type": "code",
   "execution_count": 8,
   "metadata": {},
   "outputs": [
    {
     "ename": "NameError",
     "evalue": "name 'ag_ids' is not defined",
     "output_type": "error",
     "traceback": [
      "\u001b[0;31m---------------------------------------------------------------------------\u001b[0m",
      "\u001b[0;31mNameError\u001b[0m                                 Traceback (most recent call last)",
      "\u001b[0;32m<ipython-input-8-3ed7c1befd3e>\u001b[0m in \u001b[0;36m<module>\u001b[0;34m\u001b[0m\n\u001b[1;32m      2\u001b[0m \u001b[0;32mfor\u001b[0m \u001b[0me\u001b[0m \u001b[0;32min\u001b[0m \u001b[0mrange\u001b[0m\u001b[0;34m(\u001b[0m\u001b[0mN_EPOCHS\u001b[0m\u001b[0;34m)\u001b[0m\u001b[0;34m:\u001b[0m\u001b[0;34m\u001b[0m\u001b[0;34m\u001b[0m\u001b[0m\n\u001b[1;32m      3\u001b[0m     \u001b[0mtrain_loss\u001b[0m \u001b[0;34m=\u001b[0m \u001b[0mtrain\u001b[0m\u001b[0;34m(\u001b[0m\u001b[0mmodel\u001b[0m\u001b[0;34m,\u001b[0m \u001b[0mtrain_iter\u001b[0m\u001b[0;34m,\u001b[0m \u001b[0moptimizer\u001b[0m\u001b[0;34m)\u001b[0m\u001b[0;34m\u001b[0m\u001b[0;34m\u001b[0m\u001b[0m\n\u001b[0;32m----> 4\u001b[0;31m     \u001b[0mval_loss\u001b[0m \u001b[0;34m=\u001b[0m \u001b[0mevaluate\u001b[0m\u001b[0;34m(\u001b[0m\u001b[0mmodel\u001b[0m\u001b[0;34m,\u001b[0m \u001b[0mval_iter\u001b[0m\u001b[0;34m)\u001b[0m\u001b[0;34m\u001b[0m\u001b[0;34m\u001b[0m\u001b[0m\n\u001b[0m\u001b[1;32m      5\u001b[0m \u001b[0;34m\u001b[0m\u001b[0m\n\u001b[1;32m      6\u001b[0m     \u001b[0;32mif\u001b[0m \u001b[0mlen\u001b[0m\u001b[0;34m(\u001b[0m\u001b[0mval_history\u001b[0m\u001b[0;34m)\u001b[0m\u001b[0;34m==\u001b[0m\u001b[0;36m0\u001b[0m \u001b[0;32mor\u001b[0m \u001b[0mmin\u001b[0m\u001b[0;34m(\u001b[0m\u001b[0mval_history\u001b[0m\u001b[0;34m)\u001b[0m\u001b[0;34m>\u001b[0m\u001b[0mval_loss\u001b[0m\u001b[0;34m:\u001b[0m\u001b[0;34m\u001b[0m\u001b[0;34m\u001b[0m\u001b[0m\n",
      "\u001b[0;32m<ipython-input-7-744c36f3362c>\u001b[0m in \u001b[0;36mevaluate\u001b[0;34m(model, data_iter)\u001b[0m\n\u001b[1;32m     22\u001b[0m             \u001b[0minput_ids\u001b[0m\u001b[0;34m,\u001b[0m \u001b[0matten_mask\u001b[0m\u001b[0;34m,\u001b[0m \u001b[0mtag_ids\u001b[0m \u001b[0;34m=\u001b[0m \u001b[0minput_ids\u001b[0m\u001b[0;34m.\u001b[0m\u001b[0mto\u001b[0m\u001b[0;34m(\u001b[0m\u001b[0mdevice\u001b[0m\u001b[0;34m)\u001b[0m\u001b[0;34m,\u001b[0m \u001b[0matten_mask\u001b[0m\u001b[0;34m.\u001b[0m\u001b[0mto\u001b[0m\u001b[0;34m(\u001b[0m\u001b[0mdevice\u001b[0m\u001b[0;34m)\u001b[0m\u001b[0;34m,\u001b[0m \u001b[0mtag_ids\u001b[0m\u001b[0;34m.\u001b[0m\u001b[0mto\u001b[0m\u001b[0;34m(\u001b[0m\u001b[0mdevice\u001b[0m\u001b[0;34m)\u001b[0m\u001b[0;34m\u001b[0m\u001b[0;34m\u001b[0m\u001b[0m\n\u001b[1;32m     23\u001b[0m             \u001b[0mfeats\u001b[0m \u001b[0;34m=\u001b[0m \u001b[0mmodel\u001b[0m\u001b[0;34m(\u001b[0m\u001b[0minput_ids\u001b[0m\u001b[0;34m,\u001b[0m \u001b[0matten_mask\u001b[0m\u001b[0;34m)\u001b[0m\u001b[0;34m\u001b[0m\u001b[0;34m\u001b[0m\u001b[0m\n\u001b[0;32m---> 24\u001b[0;31m             \u001b[0mloss\u001b[0m \u001b[0;34m=\u001b[0m \u001b[0mmodel\u001b[0m\u001b[0;34m.\u001b[0m\u001b[0mloss\u001b[0m\u001b[0;34m(\u001b[0m\u001b[0mfeats\u001b[0m\u001b[0;34m,\u001b[0m \u001b[0matten_mask\u001b[0m\u001b[0;34m,\u001b[0m \u001b[0mag_ids\u001b[0m\u001b[0;34m)\u001b[0m\u001b[0;34m\u001b[0m\u001b[0;34m\u001b[0m\u001b[0m\n\u001b[0m\u001b[1;32m     25\u001b[0m \u001b[0;34m\u001b[0m\u001b[0m\n\u001b[1;32m     26\u001b[0m             \u001b[0mtotal_cnt\u001b[0m \u001b[0;34m+=\u001b[0m \u001b[0mlen\u001b[0m\u001b[0;34m(\u001b[0m\u001b[0minput_ids\u001b[0m\u001b[0;34m)\u001b[0m\u001b[0;34m\u001b[0m\u001b[0;34m\u001b[0m\u001b[0m\n",
      "\u001b[0;31mNameError\u001b[0m: name 'ag_ids' is not defined"
     ]
    }
   ],
   "source": [
    "val_history = []\n",
    "for e in range(N_EPOCHS):\n",
    "    train_loss = train(model, train_iter, optimizer)\n",
    "    val_loss = evaluate(model, val_iter)\n",
    "    \n",
    "    if len(val_history)==0 or min(val_history)>val_loss:\n",
    "        t.save('./save_models/1.pt', model.state_dict())\n",
    "    val_history.append(val_loss)\n",
    "    print(\"Epoch: {}\".format(e))\n",
    "    print(\"Train Loss:{:.4f} Val Loss:{:.4f}\".format(train_loss, val_loss))"
   ]
  },
  {
   "cell_type": "code",
   "execution_count": null,
   "metadata": {},
   "outputs": [],
   "source": []
  }
 ],
 "metadata": {
  "kernelspec": {
   "display_name": "Python 3",
   "language": "python",
   "name": "python3"
  },
  "language_info": {
   "codemirror_mode": {
    "name": "ipython",
    "version": 3
   },
   "file_extension": ".py",
   "mimetype": "text/x-python",
   "name": "python",
   "nbconvert_exporter": "python",
   "pygments_lexer": "ipython3",
   "version": "3.6.7"
  }
 },
 "nbformat": 4,
 "nbformat_minor": 2
}
